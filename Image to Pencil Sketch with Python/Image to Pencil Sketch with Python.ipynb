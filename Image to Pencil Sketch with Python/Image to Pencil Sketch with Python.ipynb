{
 "cells": [
  {
   "cell_type": "code",
   "execution_count": 1,
   "id": "71dfef68",
   "metadata": {},
   "outputs": [],
   "source": [
    "#Import the cv2 package\n",
    "import cv2"
   ]
  },
  {
   "cell_type": "code",
   "execution_count": 3,
   "id": "5486ea8e",
   "metadata": {},
   "outputs": [
    {
     "data": {
      "text/plain": [
       "-1"
      ]
     },
     "execution_count": 3,
     "metadata": {},
     "output_type": "execute_result"
    }
   ],
   "source": [
    "#Read the image and store as an object\n",
    "my_image = cv2.imread(\"cam24.jpg\")\n",
    "cv2.imshow(\"Myself\", my_image) #Show the image\n",
    "cv2.waitKey(0)"
   ]
  },
  {
   "cell_type": "code",
   "execution_count": 5,
   "id": "67b117d7",
   "metadata": {},
   "outputs": [
    {
     "data": {
      "text/plain": [
       "-1"
      ]
     },
     "execution_count": 5,
     "metadata": {},
     "output_type": "execute_result"
    }
   ],
   "source": [
    "#Convert the image in Gray scale\n",
    "gray_image = cv2.cvtColor(my_image, cv2.COLOR_BGR2GRAY)\n",
    "cv2.imshow(\"Gray Image\", gray_image) #Show the image\n",
    "cv2.waitKey(0)"
   ]
  },
  {
   "cell_type": "code",
   "execution_count": 6,
   "id": "ffa38cd1",
   "metadata": {},
   "outputs": [
    {
     "data": {
      "text/plain": [
       "-1"
      ]
     },
     "execution_count": 6,
     "metadata": {},
     "output_type": "execute_result"
    }
   ],
   "source": [
    "#Reverse the colors on the image Gray scale image\n",
    "inverted_image = cv2.bitwise_not(gray_image)\n",
    "cv2.imshow(\"Inverted Image\", inverted_image) #Show the image\n",
    "cv2.waitKey(0)"
   ]
  },
  {
   "cell_type": "code",
   "execution_count": 7,
   "id": "a78e3a25",
   "metadata": {},
   "outputs": [
    {
     "data": {
      "text/plain": [
       "-1"
      ]
     },
     "execution_count": 7,
     "metadata": {},
     "output_type": "execute_result"
    }
   ],
   "source": [
    "#Blur the Reversed image\n",
    "blurred_image = cv2.GaussianBlur(inverted_image, (21, 21), 0, borderType = cv2.BORDER_WRAP)\n",
    "cv2.imshow(\"Blurred Image\", blurred_image) #Show the image\n",
    "cv2.waitKey(0)"
   ]
  },
  {
   "cell_type": "code",
   "execution_count": 8,
   "id": "9a16ee51",
   "metadata": {},
   "outputs": [
    {
     "data": {
      "text/plain": [
       "-1"
      ]
     },
     "execution_count": 8,
     "metadata": {},
     "output_type": "execute_result"
    }
   ],
   "source": [
    "#Reverse the colors on the Blurred image\n",
    "inverted_blurred = cv2.bitwise_not(blurred_image)\n",
    "cv2.imshow(\"Inverted Blurred Image\", inverted_blurred) #Show the image\n",
    "cv2.waitKey(0)"
   ]
  },
  {
   "cell_type": "code",
   "execution_count": 9,
   "id": "d30bbbc8",
   "metadata": {},
   "outputs": [
    {
     "data": {
      "text/plain": [
       "-1"
      ]
     },
     "execution_count": 9,
     "metadata": {},
     "output_type": "execute_result"
    }
   ],
   "source": [
    "#Sketch the Image\n",
    "pencil_sketch = cv2.divide(gray_image, inverted_blurred, scale=256.0)\n",
    "cv2.imshow(\"Sketch Image\", pencil_sketch) #Show the image\n",
    "cv2.waitKey(0)"
   ]
  },
  {
   "cell_type": "markdown",
   "id": "213222df",
   "metadata": {},
   "source": [
    "## Thank You,\n",
    "### Soumitro Mukherjee\n",
    "#### soumukherjee08@gmail.com\n",
    "#### https://github.com/Soumitro013"
   ]
  }
 ],
 "metadata": {
  "kernelspec": {
   "display_name": "Python 3",
   "language": "python",
   "name": "python3"
  },
  "language_info": {
   "codemirror_mode": {
    "name": "ipython",
    "version": 3
   },
   "file_extension": ".py",
   "mimetype": "text/x-python",
   "name": "python",
   "nbconvert_exporter": "python",
   "pygments_lexer": "ipython3",
   "version": "3.8.8"
  }
 },
 "nbformat": 4,
 "nbformat_minor": 5
}
